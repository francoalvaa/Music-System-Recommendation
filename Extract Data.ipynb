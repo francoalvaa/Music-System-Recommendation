{
  "nbformat": 4,
  "nbformat_minor": 0,
  "metadata": {
    "colab": {
      "provenance": [],
      "include_colab_link": true
    },
    "kernelspec": {
      "name": "python3",
      "display_name": "Python 3"
    },
    "language_info": {
      "name": "python"
    }
  },
  "cells": [
    {
      "cell_type": "markdown",
      "metadata": {
        "id": "view-in-github",
        "colab_type": "text"
      },
      "source": [
        "<a href=\"https://colab.research.google.com/github/francoalvaa/Music-System-Recommendation/blob/main/Extract%20Data.ipynb\" target=\"_parent\"><img src=\"https://colab.research.google.com/assets/colab-badge.svg\" alt=\"Open In Colab\"/></a>"
      ]
    },
    {
      "cell_type": "markdown",
      "source": [
        "#Installs"
      ],
      "metadata": {
        "id": "XK8QEzDAl7uU"
      }
    },
    {
      "cell_type": "code",
      "execution_count": 1,
      "metadata": {
        "colab": {
          "base_uri": "https://localhost:8080/"
        },
        "id": "t3H1SFI4Prnv",
        "outputId": "474613b0-1e83-43be-cd77-f719d6a328de"
      },
      "outputs": [
        {
          "output_type": "stream",
          "name": "stdout",
          "text": [
            "{\"id\": 249504, \"status\": \"Accepted\", \"year\": 1987, \"resource_url\": \"https://api.discogs.com/releases/249504\", \"uri\": \"https://www.discogs.com/release/249504-Rick-Astley-Never-Gonna-Give-You-Up\", \"artists\": [{\"name\": \"Rick Astley\", \"anv\": \"\", \"join\": \"\", \"role\": \"\", \"tracks\": \"\", \"id\": 72872, \"resource_url\": \"https://api.discogs.com/artists/72872\"}], \"artists_sort\": \"Rick Astley\", \"labels\": [{\"name\": \"RCA\", \"catno\": \"PB 41447\", \"entity_type\": \"1\", \"entity_type_name\": \"Label\", \"id\": 895, \"resource_url\": \"https://api.discogs.com/labels/895\"}], \"series\": [], \"companies\": [{\"name\": \"BMG Records (UK) Ltd.\", \"catno\": \"\", \"entity_type\": \"13\", \"entity_type_name\": \"Phonographic Copyright (p)\", \"id\": 82835, \"resource_url\": \"https://api.discogs.com/labels/82835\"}, {\"name\": \"BMG Records (UK) Ltd.\", \"catno\": \"\", \"entity_type\": \"14\", \"entity_type_name\": \"Copyright (c)\", \"id\": 82835, \"resource_url\": \"https://api.discogs.com/labels/82835\"}, {\"name\": \"Pete Waterman Ltd.\", \"catno\": \"\", \"entity_type\": \"13\", \"entity_type_name\": \"Phonographic Copyright (p)\", \"id\": 301937, \"resource_url\": \"https://api.discogs.com/labels/301937\"}, {\"name\": \"All Boys Music Ltd.\", \"catno\": \"\", \"entity_type\": \"21\", \"entity_type_name\": \"Published By\", \"id\": 273945, \"resource_url\": \"https://api.discogs.com/labels/273945\"}, {\"name\": \"BMG Records\", \"catno\": \"\", \"entity_type\": \"9\", \"entity_type_name\": \"Distributed By\", \"id\": 26385, \"resource_url\": \"https://api.discogs.com/labels/26385\"}, {\"name\": \"BMG Ariola\", \"catno\": \"\", \"entity_type\": \"9\", \"entity_type_name\": \"Distributed By\", \"id\": 33652, \"resource_url\": \"https://api.discogs.com/labels/33652\"}, {\"name\": \"RCA Records\", \"catno\": \"\", \"entity_type\": \"8\", \"entity_type_name\": \"Marketed By\", \"id\": 29656, \"resource_url\": \"https://api.discogs.com/labels/29656\"}, {\"name\": \"Utopia Studios\", \"catno\": \"\", \"entity_type\": \"30\", \"entity_type_name\": \"Lacquer Cut At\", \"id\": 266218, \"resource_url\": \"https://api.discogs.com/labels/266218\"}, {\"name\": \"BMG Records (UK) Ltd.\", \"catno\": \"\", \"entity_type\": \"5\", \"entity_type_name\": \"Licensed To\", \"id\": 82835, \"resource_url\": \"https://api.discogs.com/labels/82835\"}, {\"name\": \"PWL\", \"catno\": \"\", \"entity_type\": \"4\", \"entity_type_name\": \"Record Company\", \"id\": 30024, \"resource_url\": \"https://api.discogs.com/labels/30024\"}, {\"name\": \"CBS Pressing Plant, Aston Clinton\", \"catno\": \"\", \"entity_type\": \"17\", \"entity_type_name\": \"Pressed By\", \"id\": 553982, \"resource_url\": \"https://api.discogs.com/labels/553982\"}], \"formats\": [{\"name\": \"Vinyl\", \"qty\": \"1\", \"descriptions\": [\"7\\\"\", \"45 RPM\", \"Single\", \"Stereo\"]}], \"data_quality\": \"Needs Vote\", \"community\": {\"have\": 3127, \"want\": 497, \"rating\": {\"count\": 189, \"average\": 3.75}, \"submitter\": {\"username\": \"memory\", \"resource_url\": \"https://api.discogs.com/users/memory\"}, \"contributors\": [{\"username\": \"memory\", \"resource_url\": \"https://api.discogs.com/users/memory\"}, {\"username\": \"vargind\", \"resource_url\": \"https://api.discogs.com/users/vargind\"}, {\"username\": \"alistairk\", \"resource_url\": \"https://api.discogs.com/users/alistairk\"}, {\"username\": \"hog\", \"resource_url\": \"https://api.discogs.com/users/hog\"}, {\"username\": \"rwrackham\", \"resource_url\": \"https://api.discogs.com/users/rwrackham\"}, {\"username\": \"jan_marian\", \"resource_url\": \"https://api.discogs.com/users/jan_marian\"}, {\"username\": \"_80_\", \"resource_url\": \"https://api.discogs.com/users/_80_\"}, {\"username\": \"chillyboy64\", \"resource_url\": \"https://api.discogs.com/users/chillyboy64\"}, {\"username\": \"strummin\", \"resource_url\": \"https://api.discogs.com/users/strummin\"}, {\"username\": \"djcarbines\", \"resource_url\": \"https://api.discogs.com/users/djcarbines\"}, {\"username\": \"Skinheadmate\", \"resource_url\": \"https://api.discogs.com/users/Skinheadmate\"}, {\"username\": \"Stathisan\", \"resource_url\": \"https://api.discogs.com/users/Stathisan\"}, {\"username\": \"djtarzanboy\", \"resource_url\": \"https://api.discogs.com/users/djtarzanboy\"}, {\"username\": \"anagrama\", \"resource_url\": \"https://api.discogs.com/users/anagrama\"}], \"data_quality\": \"Needs Vote\", \"status\": \"Accepted\"}, \"format_quantity\": 1, \"date_added\": \"2004-04-30T08:10:05-07:00\", \"date_changed\": \"2022-08-03T03:03:28-07:00\", \"num_for_sale\": 91, \"lowest_price\": 1.27, \"master_id\": 96559, \"master_url\": \"https://api.discogs.com/masters/96559\", \"title\": \"Never Gonna Give You Up\", \"country\": \"UK\", \"released\": \"1987-07-00\", \"notes\": \"UK Release has a black label with the text \\\"Manufactured In England\\\" printed on it.\\n\\nSleeve:\\n\\u2117 1987 \\u2022 BMG Records (UK) Ltd. \\u00a9 1987 \\u2022 BMG Records (UK) Ltd.\\nDistributed in the UK by BMG Records \\u2022  Distribu\\u00e9 en Europe par BMG/Ariola \\u2022 Vertrieb en Europa d\\u00fcrch BMG/Ariola.\\n\\nCenter labels:\\n\\u2117 1987 Pete Waterman Ltd.\\nOriginal Sound Recording made by PWL.\\nBMG Records (UK) Ltd. are the exclusive licensees for the world.\\n\\nDurations do not appear on the release.\\n\\nRunouts are etched, except 'B' stamp in variant '3. 'MS' is encircled. \", \"released_formatted\": \"Jul 1987\", \"identifiers\": [{\"type\": \"Barcode\", \"value\": \"5012394144777\"}, {\"type\": \"Label Code\", \"value\": \"LC 0316\"}, {\"type\": \"Price Code\", \"value\": \"AC\", \"description\": \"D:\"}, {\"type\": \"Price Code\", \"value\": \"RC110\", \"description\": \"F:\"}, {\"type\": \"Price Code\", \"value\": \"AA\", \"description\": \"UK:\"}, {\"type\": \"Matrix / Runout\", \"value\": \"PB 41447 A\\u2021\", \"description\": \"A side label\"}, {\"type\": \"Matrix / Runout\", \"value\": \"PB 41447 B\\u2021\", \"description\": \"B side label\"}, {\"type\": \"Matrix / Runout\", \"value\": \"PB 41447 A2 UTOPIA MS\", \"description\": \"A side runout, variant 1\"}, {\"type\": \"Matrix / Runout\", \"value\": \"PB 41447-B.2 UTOPIA MS\", \"description\": \"B side runout, variant 1\"}, {\"type\": \"Matrix / Runout\", \"value\": \"PB 41447 A4 UTOPIA MS.\", \"description\": \"A side runout, variant 2\"}, {\"type\": \"Matrix / Runout\", \"value\": \"PB 41447 B4 UTOPIA MS \\u2665 RD.\", \"description\": \"B side runout, variant 2\"}, {\"type\": \"Matrix / Runout\", \"value\": \"PB 41447 A2 UTOPIA MS B\", \"description\": \"A side runout, variant 3\"}, {\"type\": \"Matrix / Runout\", \"value\": \"PB 41447-B.2 B UTOPIA MS\", \"description\": \"B side runout, variant 3\"}], \"videos\": [{\"uri\": \"https://www.youtube.com/watch?v=dQw4w9WgXcQ\", \"title\": \"Rick Astley - Never Gonna Give You Up (Official Music Video)\", \"description\": \"The official video for \\u201cNever Gonna Give You Up\\u201d by Rick Astley. \\n\\nThe new album 'Are We There Yet?' is out now: Download here: https://RickAstley.lnk.to/AreWeThereYetFA/itunes\\n\\n\\u201cNever Gonna Give You Up\\u201d was a global smash on its release in July 1987, top\", \"duration\": 213, \"embed\": true}], \"genres\": [\"Electronic\", \"Pop\"], \"styles\": [\"Euro-Disco\"], \"tracklist\": [{\"position\": \"A\", \"type_\": \"track\", \"title\": \"Never Gonna Give You Up\", \"duration\": \"3:32\"}, {\"position\": \"B\", \"type_\": \"track\", \"title\": \"Never Gonna Give You Up (Instrumental)\", \"duration\": \"3:30\"}], \"extraartists\": [{\"name\": \"Me Company\", \"anv\": \"Me Co\", \"join\": \"\", \"role\": \"Design\", \"tracks\": \"\", \"id\": 547352, \"resource_url\": \"https://api.discogs.com/artists/547352\"}, {\"name\": \"Mark McGuire\", \"anv\": \"\", \"join\": \"\", \"role\": \"Engineer\", \"tracks\": \"\", \"id\": 78275, \"resource_url\": \"https://api.discogs.com/artists/78275\"}, {\"name\": \"Mike Duffy\", \"anv\": \"\", \"join\": \"\", \"role\": \"Engineer\", \"tracks\": \"\", \"id\": 95941, \"resource_url\": \"https://api.discogs.com/artists/95941\"}, {\"name\": \"Miles Showell\", \"anv\": \"MS\", \"join\": \"\", \"role\": \"Lacquer Cut By\", \"tracks\": \"\", \"id\": 383408, \"resource_url\": \"https://api.discogs.com/artists/383408\"}, {\"name\": \"Pete Hammond\", \"anv\": \"Mixmaster Pete Hammond\", \"join\": \"\", \"role\": \"Mixed By\", \"tracks\": \"\", \"id\": 34067, \"resource_url\": \"https://api.discogs.com/artists/34067\"}, {\"name\": \"Stock, Aitken & Waterman\", \"anv\": \"Stock / Aitken / Waterman\", \"join\": \"\", \"role\": \"Producer, Written-By\", \"tracks\": \"\", \"id\": 20942, \"resource_url\": \"https://api.discogs.com/artists/20942\"}], \"images\": [{\"type\": \"primary\", \"uri\": \"\", \"resource_url\": \"\", \"uri150\": \"\", \"width\": 600, \"height\": 600}, {\"type\": \"secondary\", \"uri\": \"\", \"resource_url\": \"\", \"uri150\": \"\", \"width\": 600, \"height\": 600}, {\"type\": \"secondary\", \"uri\": \"\", \"resource_url\": \"\", \"uri150\": \"\", \"width\": 600, \"height\": 600}, {\"type\": \"secondary\", \"uri\": \"\", \"resource_url\": \"\", \"uri150\": \"\", \"width\": 600, \"height\": 600}], \"thumb\": \"\", \"estimated_weight\": 60, \"blocked_from_sale\": false}"
          ]
        }
      ],
      "source": [
        "!curl https://api.discogs.com/releases/249504 --user-agent \"FooBarApp/3.0\"\n"
      ]
    },
    {
      "cell_type": "code",
      "source": [
        "!pip install oauth2"
      ],
      "metadata": {
        "colab": {
          "base_uri": "https://localhost:8080/"
        },
        "id": "lKyDEDPaP5AB",
        "outputId": "820285f7-d972-4ae2-f8fa-4dc30b8c75d2"
      },
      "execution_count": null,
      "outputs": [
        {
          "output_type": "stream",
          "name": "stdout",
          "text": [
            "Requirement already satisfied: oauth2 in /usr/local/lib/python3.10/dist-packages (1.9.0.post1)\n",
            "Requirement already satisfied: httplib2 in /usr/local/lib/python3.10/dist-packages (from oauth2) (0.22.0)\n",
            "Requirement already satisfied: pyparsing!=3.0.0,!=3.0.1,!=3.0.2,!=3.0.3,<4,>=2.4.2 in /usr/local/lib/python3.10/dist-packages (from httplib2->oauth2) (3.1.1)\n"
          ]
        }
      ]
    },
    {
      "cell_type": "markdown",
      "source": [
        "#imports"
      ],
      "metadata": {
        "id": "S2nZsM9dmBzf"
      }
    },
    {
      "cell_type": "code",
      "source": [
        "import requests"
      ],
      "metadata": {
        "id": "F96I86W7iS56"
      },
      "execution_count": null,
      "outputs": []
    },
    {
      "cell_type": "code",
      "source": [
        "#\n",
        "import json\n",
        "import sys\n",
        "\n",
        "from urllib import request\n",
        "from urllib.parse import parse_qsl\n",
        "from urllib.parse import urlparse\n",
        "\n",
        "import oauth2 as oauth"
      ],
      "metadata": {
        "id": "gcJPdyfvVnSf"
      },
      "execution_count": null,
      "outputs": []
    },
    {
      "cell_type": "code",
      "source": [
        "import pandas as pd"
      ],
      "metadata": {
        "id": "Jk_rCzO2LOXl"
      },
      "execution_count": null,
      "outputs": []
    },
    {
      "cell_type": "markdown",
      "source": [
        "#oauth"
      ],
      "metadata": {
        "id": "3ylSiuETmFc0"
      }
    },
    {
      "cell_type": "code",
      "source": [
        "consumer_key = 'jSmwcayelgGOTXCLbuco'\n",
        "consumer_secret = 'FcaSGVGSNhyCRLTLmfvcTgNAXriKkzoI'\n",
        "\n",
        "# The following oauth end-points are defined by discogs.com staff. These static endpoints\n",
        "# are called at various stages of oauth handshaking.\n",
        "request_token_url = 'https://api.discogs.com/oauth/request_token'\n",
        "authorize_url = 'https://www.discogs.com/oauth/authorize'\n",
        "access_token_url = 'https://api.discogs.com/oauth/access_token'\n",
        "\n",
        "user_agent = 'recommedation_system'\n",
        "\n",
        "# create oauth Consumer and Client objects using\n",
        "consumer = oauth.Consumer(consumer_key, consumer_secret)\n",
        "client = oauth.Client(consumer)\n",
        "\n",
        "resp, content = client.request(request_token_url, 'POST', headers={'User-Agent': user_agent})\n",
        "\n",
        "if resp['status'] != '200':\n",
        "    sys.exit('Invalid response {0}.'.format(resp['status']))\n",
        "\n",
        "request_token = dict(parse_qsl(content.decode('utf-8')))\n",
        "\n",
        "print(' == Request Token == ')\n",
        "print(f'    * oauth_token        = {request_token[\"oauth_token\"]}')\n",
        "print(f'    * oauth_token_secret = {request_token[\"oauth_token_secret\"]}')\n",
        "print()\n",
        "\n",
        "# Authorize our newly received request_token against the discogs oauth endpoint.\n",
        "# Prompt your user to \"accept\" the terms of your application. The application\n",
        "# will act on behalf of their discogs.com account.\n",
        "# If the user accepts, discogs displays a key to the user that is used for\n",
        "# verification. The key is required in the 2nd phase of authentication.\n",
        "print(f'Please browse to the following URL {authorize_url}?oauth_token={request_token[\"oauth_token\"]}')\n"
      ],
      "metadata": {
        "colab": {
          "base_uri": "https://localhost:8080/"
        },
        "id": "rKw5A1iMbkjH",
        "outputId": "35f6975a-06f1-4ef0-8968-94ede0060bd1"
      },
      "execution_count": null,
      "outputs": [
        {
          "output_type": "stream",
          "name": "stdout",
          "text": [
            " == Request Token == \n",
            "    * oauth_token        = ByayWVHrnsGPcCFWMpQcpVKizqAHWTtjbCwGxzNA\n",
            "    * oauth_token_secret = nrhZDQeytTiYLlfdXwIdOlAEpfyuxLzfCtLAHQJf\n",
            "\n",
            "Please browse to the following URL https://www.discogs.com/oauth/authorize?oauth_token=ByayWVHrnsGPcCFWMpQcpVKizqAHWTtjbCwGxzNA\n"
          ]
        }
      ]
    },
    {
      "cell_type": "code",
      "source": [
        "# Waiting for user input\n",
        "accepted = 'n'\n",
        "while accepted.lower() == 'n':\n",
        "    print()\n",
        "    accepted = input(f'Have you authorized me at {authorize_url}?oauth_token={request_token[\"oauth_token\"]} [y/n] :')\n",
        "\n",
        "# request the verification token from the user.\n",
        "oauth_verifier = input('Verification code : ')"
      ],
      "metadata": {
        "colab": {
          "base_uri": "https://localhost:8080/"
        },
        "id": "O_UVXNmbcy93",
        "outputId": "788cd3a3-ca2b-4743-88e7-6b04e27d585f"
      },
      "execution_count": null,
      "outputs": [
        {
          "name": "stdout",
          "output_type": "stream",
          "text": [
            "\n",
            "Have you authorized me at https://www.discogs.com/oauth/authorize?oauth_token=ByayWVHrnsGPcCFWMpQcpVKizqAHWTtjbCwGxzNA [y/n] :y\n",
            "Verification code : AaneAxANKT\n"
          ]
        }
      ]
    },
    {
      "cell_type": "code",
      "source": [
        "# Generate objects that pass the verification key with the oauth token and oauth\n",
        "# secret to the discogs access_token_url\n",
        "token = oauth.Token(request_token['oauth_token'], request_token['oauth_token_secret'])\n",
        "token.set_verifier(oauth_verifier)\n",
        "client = oauth.Client(consumer, token)\n",
        "\n",
        "resp, content = client.request(access_token_url, 'POST', headers={'User-Agent': user_agent})"
      ],
      "metadata": {
        "id": "Vg52sIAZdCyZ"
      },
      "execution_count": null,
      "outputs": []
    },
    {
      "cell_type": "code",
      "source": [
        "access_token = dict(parse_qsl(content.decode('utf-8')))\n",
        "\n",
        "print(' == Access Token ==')\n",
        "print(f'    * oauth_token        = {access_token[\"oauth_token\"]}')\n",
        "print(f'    * oauth_token_secret = {access_token[\"oauth_token_secret\"]}')\n",
        "print(' Authentication complete. Future requests must be signed with the above tokens.')\n",
        "print()"
      ],
      "metadata": {
        "colab": {
          "base_uri": "https://localhost:8080/"
        },
        "id": "LtCtkcy4cWz9",
        "outputId": "70536d25-d47b-4945-e0c4-eb850820c471"
      },
      "execution_count": null,
      "outputs": [
        {
          "output_type": "stream",
          "name": "stdout",
          "text": [
            " == Access Token ==\n",
            "    * oauth_token        = AIfKtJiYYLmoxTmrIBRkFRQoJQfhWEZmIoNSTDVx\n",
            "    * oauth_token_secret = JytnePhoqxpifkatQmONJJMtXGfsbvJcQaHADPvK\n",
            " Authentication complete. Future requests must be signed with the above tokens.\n",
            "\n"
          ]
        }
      ]
    },
    {
      "cell_type": "code",
      "source": [
        "# along with the verified oauth token and oauth token for this user.\n",
        "token = oauth.Token(key=access_token['oauth_token'],\n",
        "        secret=access_token['oauth_token_secret'])\n",
        "client = oauth.Client(consumer, token)\n"
      ],
      "metadata": {
        "id": "T8A4YPlpdYmZ"
      },
      "execution_count": null,
      "outputs": []
    },
    {
      "cell_type": "markdown",
      "source": [
        "#Scraping"
      ],
      "metadata": {
        "id": "aKetl_zjmfA3"
      }
    },
    {
      "cell_type": "code",
      "source": [
        "all_songs = []\n"
      ],
      "metadata": {
        "id": "eeOxIUK9hmRu"
      },
      "execution_count": null,
      "outputs": []
    },
    {
      "cell_type": "code",
      "source": [
        "page = 1\n",
        "resp, content = client.request('https://api.discogs.com/database/search?genre=Electronic&page={page}&per_page=100',\n",
        "        headers={'User-Agent': user_agent})\n",
        "\n",
        "if resp['status'] != '200':\n",
        "    sys.exit('Invalid API response {0}.'.format(resp['status']))"
      ],
      "metadata": {
        "id": "guZs7rJ6hict"
      },
      "execution_count": null,
      "outputs": []
    },
    {
      "cell_type": "code",
      "source": [
        "\n",
        "releases = json.loads(content.decode('utf-8'))\n",
        "for release in releases['results']:\n",
        "    id = release.get(\"id\")\n",
        "    title = release.get(\"title\")\n",
        "    year = release.get(\"year\", \"Unknown\")\n",
        "    label = release.get(\"label\", [\"Unknown\"])\n",
        "    style = release.get(\"style\", \"Unknown\")\n",
        "    type = release.get(\"type\")\n",
        "\n",
        "    all_songs.append({'id':id, 'title': title, 'Year': year, 'label': label, 'style': style , 'type': type})"
      ],
      "metadata": {
        "id": "LmmaWNqKoIRG"
      },
      "execution_count": null,
      "outputs": []
    },
    {
      "cell_type": "code",
      "source": [
        "df = pd.DataFrame(all_songs)\n",
        "df"
      ],
      "metadata": {
        "colab": {
          "base_uri": "https://localhost:8080/",
          "height": 424
        },
        "id": "z7K-ZXWzLSNZ",
        "outputId": "9f1c9340-e31a-40ab-d617-ffe6de0e5ef5"
      },
      "execution_count": null,
      "outputs": [
        {
          "output_type": "execute_result",
          "data": {
            "text/plain": [
              "         id                                              title  Year  \\\n",
              "0     11520        Millsart / Jeff Mills - Inner Life / Medusa  1997   \n",
              "1    316595  Casco Presents BWH* - Stop / Livin Up (Origina...  2004   \n",
              "2   8334239                     Various - Disco Mantras Vol. 1  2016   \n",
              "3       554                        FUSE* - Dimension Intrusion  1993   \n",
              "4      1923                                        Bola - Soup  1998   \n",
              "..      ...                                                ...   ...   \n",
              "95  6924757                                 Luis CL - Untitled  2015   \n",
              "96  8193606                       Ghibli - I'm Looking For You  2016   \n",
              "97   443274            Messiah Corps - Wrong Side Of The Grave  2005   \n",
              "98   349019                 Rhythm For Reasons - DJ SS Remixes  1995   \n",
              "99   168605  Black Sun Productions - The Plastic Spider Thi...  2002   \n",
              "\n",
              "                                                label  \\\n",
              "0   [React, Axis, React, Axis Records, P.R. Record...   \n",
              "1                                    [Radius Records]   \n",
              "2   [Mood Hut, Mood Hut Studios, The Exchange Viny...   \n",
              "3   [Warp Records, Artificial Intelligence, UTK, P...   \n",
              "4   [Skam, Skam, Skam, Gramofonové Závody, The Bol...   \n",
              "..                                                ...   \n",
              "95  [Superconscious Records, Juno, Superconscious ...   \n",
              "96              [Dark Entries, Dark Entries Editions]   \n",
              "97                                       [Deathchant]   \n",
              "98  [Formation Records, Formation Studios, Formati...   \n",
              "99  [Eskaton, Eskaton, AGI, USA, World Serpent, Va...   \n",
              "\n",
              "                                                style     type  \n",
              "0                                            [Techno]  release  \n",
              "1                  [Italo-Disco, Electro, Tech House]  release  \n",
              "2   [Ambient, Deep House, Disco, Downtempo, Africa...  release  \n",
              "3   [Abstract, Techno, Ambient, Acid, Downtempo, M...  release  \n",
              "4                           [IDM, Ambient, Downtempo]  release  \n",
              "..                                                ...      ...  \n",
              "95                                    [House, Techno]  release  \n",
              "96                                      [Italo-Disco]  release  \n",
              "97                                         [Hardcore]  release  \n",
              "98                                           [Jungle]  release  \n",
              "99                              [Drone, Experimental]  release  \n",
              "\n",
              "[100 rows x 6 columns]"
            ],
            "text/html": [
              "\n",
              "  <div id=\"df-6b9f492f-3470-405c-a448-218b096d9fda\" class=\"colab-df-container\">\n",
              "    <div>\n",
              "<style scoped>\n",
              "    .dataframe tbody tr th:only-of-type {\n",
              "        vertical-align: middle;\n",
              "    }\n",
              "\n",
              "    .dataframe tbody tr th {\n",
              "        vertical-align: top;\n",
              "    }\n",
              "\n",
              "    .dataframe thead th {\n",
              "        text-align: right;\n",
              "    }\n",
              "</style>\n",
              "<table border=\"1\" class=\"dataframe\">\n",
              "  <thead>\n",
              "    <tr style=\"text-align: right;\">\n",
              "      <th></th>\n",
              "      <th>id</th>\n",
              "      <th>title</th>\n",
              "      <th>Year</th>\n",
              "      <th>label</th>\n",
              "      <th>style</th>\n",
              "      <th>type</th>\n",
              "    </tr>\n",
              "  </thead>\n",
              "  <tbody>\n",
              "    <tr>\n",
              "      <th>0</th>\n",
              "      <td>11520</td>\n",
              "      <td>Millsart / Jeff Mills - Inner Life / Medusa</td>\n",
              "      <td>1997</td>\n",
              "      <td>[React, Axis, React, Axis Records, P.R. Record...</td>\n",
              "      <td>[Techno]</td>\n",
              "      <td>release</td>\n",
              "    </tr>\n",
              "    <tr>\n",
              "      <th>1</th>\n",
              "      <td>316595</td>\n",
              "      <td>Casco Presents BWH* - Stop / Livin Up (Origina...</td>\n",
              "      <td>2004</td>\n",
              "      <td>[Radius Records]</td>\n",
              "      <td>[Italo-Disco, Electro, Tech House]</td>\n",
              "      <td>release</td>\n",
              "    </tr>\n",
              "    <tr>\n",
              "      <th>2</th>\n",
              "      <td>8334239</td>\n",
              "      <td>Various - Disco Mantras Vol. 1</td>\n",
              "      <td>2016</td>\n",
              "      <td>[Mood Hut, Mood Hut Studios, The Exchange Viny...</td>\n",
              "      <td>[Ambient, Deep House, Disco, Downtempo, Africa...</td>\n",
              "      <td>release</td>\n",
              "    </tr>\n",
              "    <tr>\n",
              "      <th>3</th>\n",
              "      <td>554</td>\n",
              "      <td>FUSE* - Dimension Intrusion</td>\n",
              "      <td>1993</td>\n",
              "      <td>[Warp Records, Artificial Intelligence, UTK, P...</td>\n",
              "      <td>[Abstract, Techno, Ambient, Acid, Downtempo, M...</td>\n",
              "      <td>release</td>\n",
              "    </tr>\n",
              "    <tr>\n",
              "      <th>4</th>\n",
              "      <td>1923</td>\n",
              "      <td>Bola - Soup</td>\n",
              "      <td>1998</td>\n",
              "      <td>[Skam, Skam, Skam, Gramofonové Závody, The Bol...</td>\n",
              "      <td>[IDM, Ambient, Downtempo]</td>\n",
              "      <td>release</td>\n",
              "    </tr>\n",
              "    <tr>\n",
              "      <th>...</th>\n",
              "      <td>...</td>\n",
              "      <td>...</td>\n",
              "      <td>...</td>\n",
              "      <td>...</td>\n",
              "      <td>...</td>\n",
              "      <td>...</td>\n",
              "    </tr>\n",
              "    <tr>\n",
              "      <th>95</th>\n",
              "      <td>6924757</td>\n",
              "      <td>Luis CL - Untitled</td>\n",
              "      <td>2015</td>\n",
              "      <td>[Superconscious Records, Juno, Superconscious ...</td>\n",
              "      <td>[House, Techno]</td>\n",
              "      <td>release</td>\n",
              "    </tr>\n",
              "    <tr>\n",
              "      <th>96</th>\n",
              "      <td>8193606</td>\n",
              "      <td>Ghibli - I'm Looking For You</td>\n",
              "      <td>2016</td>\n",
              "      <td>[Dark Entries, Dark Entries Editions]</td>\n",
              "      <td>[Italo-Disco]</td>\n",
              "      <td>release</td>\n",
              "    </tr>\n",
              "    <tr>\n",
              "      <th>97</th>\n",
              "      <td>443274</td>\n",
              "      <td>Messiah Corps - Wrong Side Of The Grave</td>\n",
              "      <td>2005</td>\n",
              "      <td>[Deathchant]</td>\n",
              "      <td>[Hardcore]</td>\n",
              "      <td>release</td>\n",
              "    </tr>\n",
              "    <tr>\n",
              "      <th>98</th>\n",
              "      <td>349019</td>\n",
              "      <td>Rhythm For Reasons - DJ SS Remixes</td>\n",
              "      <td>1995</td>\n",
              "      <td>[Formation Records, Formation Studios, Formati...</td>\n",
              "      <td>[Jungle]</td>\n",
              "      <td>release</td>\n",
              "    </tr>\n",
              "    <tr>\n",
              "      <th>99</th>\n",
              "      <td>168605</td>\n",
              "      <td>Black Sun Productions - The Plastic Spider Thi...</td>\n",
              "      <td>2002</td>\n",
              "      <td>[Eskaton, Eskaton, AGI, USA, World Serpent, Va...</td>\n",
              "      <td>[Drone, Experimental]</td>\n",
              "      <td>release</td>\n",
              "    </tr>\n",
              "  </tbody>\n",
              "</table>\n",
              "<p>100 rows × 6 columns</p>\n",
              "</div>\n",
              "    <div class=\"colab-df-buttons\">\n",
              "\n",
              "  <div class=\"colab-df-container\">\n",
              "    <button class=\"colab-df-convert\" onclick=\"convertToInteractive('df-6b9f492f-3470-405c-a448-218b096d9fda')\"\n",
              "            title=\"Convert this dataframe to an interactive table.\"\n",
              "            style=\"display:none;\">\n",
              "\n",
              "  <svg xmlns=\"http://www.w3.org/2000/svg\" height=\"24px\" viewBox=\"0 -960 960 960\">\n",
              "    <path d=\"M120-120v-720h720v720H120Zm60-500h600v-160H180v160Zm220 220h160v-160H400v160Zm0 220h160v-160H400v160ZM180-400h160v-160H180v160Zm440 0h160v-160H620v160ZM180-180h160v-160H180v160Zm440 0h160v-160H620v160Z\"/>\n",
              "  </svg>\n",
              "    </button>\n",
              "\n",
              "  <style>\n",
              "    .colab-df-container {\n",
              "      display:flex;\n",
              "      gap: 12px;\n",
              "    }\n",
              "\n",
              "    .colab-df-convert {\n",
              "      background-color: #E8F0FE;\n",
              "      border: none;\n",
              "      border-radius: 50%;\n",
              "      cursor: pointer;\n",
              "      display: none;\n",
              "      fill: #1967D2;\n",
              "      height: 32px;\n",
              "      padding: 0 0 0 0;\n",
              "      width: 32px;\n",
              "    }\n",
              "\n",
              "    .colab-df-convert:hover {\n",
              "      background-color: #E2EBFA;\n",
              "      box-shadow: 0px 1px 2px rgba(60, 64, 67, 0.3), 0px 1px 3px 1px rgba(60, 64, 67, 0.15);\n",
              "      fill: #174EA6;\n",
              "    }\n",
              "\n",
              "    .colab-df-buttons div {\n",
              "      margin-bottom: 4px;\n",
              "    }\n",
              "\n",
              "    [theme=dark] .colab-df-convert {\n",
              "      background-color: #3B4455;\n",
              "      fill: #D2E3FC;\n",
              "    }\n",
              "\n",
              "    [theme=dark] .colab-df-convert:hover {\n",
              "      background-color: #434B5C;\n",
              "      box-shadow: 0px 1px 3px 1px rgba(0, 0, 0, 0.15);\n",
              "      filter: drop-shadow(0px 1px 2px rgba(0, 0, 0, 0.3));\n",
              "      fill: #FFFFFF;\n",
              "    }\n",
              "  </style>\n",
              "\n",
              "    <script>\n",
              "      const buttonEl =\n",
              "        document.querySelector('#df-6b9f492f-3470-405c-a448-218b096d9fda button.colab-df-convert');\n",
              "      buttonEl.style.display =\n",
              "        google.colab.kernel.accessAllowed ? 'block' : 'none';\n",
              "\n",
              "      async function convertToInteractive(key) {\n",
              "        const element = document.querySelector('#df-6b9f492f-3470-405c-a448-218b096d9fda');\n",
              "        const dataTable =\n",
              "          await google.colab.kernel.invokeFunction('convertToInteractive',\n",
              "                                                    [key], {});\n",
              "        if (!dataTable) return;\n",
              "\n",
              "        const docLinkHtml = 'Like what you see? Visit the ' +\n",
              "          '<a target=\"_blank\" href=https://colab.research.google.com/notebooks/data_table.ipynb>data table notebook</a>'\n",
              "          + ' to learn more about interactive tables.';\n",
              "        element.innerHTML = '';\n",
              "        dataTable['output_type'] = 'display_data';\n",
              "        await google.colab.output.renderOutput(dataTable, element);\n",
              "        const docLink = document.createElement('div');\n",
              "        docLink.innerHTML = docLinkHtml;\n",
              "        element.appendChild(docLink);\n",
              "      }\n",
              "    </script>\n",
              "  </div>\n",
              "\n",
              "\n",
              "<div id=\"df-ea8e1978-29c7-42a6-8da7-36d08c9d2b98\">\n",
              "  <button class=\"colab-df-quickchart\" onclick=\"quickchart('df-ea8e1978-29c7-42a6-8da7-36d08c9d2b98')\"\n",
              "            title=\"Suggest charts.\"\n",
              "            style=\"display:none;\">\n",
              "\n",
              "<svg xmlns=\"http://www.w3.org/2000/svg\" height=\"24px\"viewBox=\"0 0 24 24\"\n",
              "     width=\"24px\">\n",
              "    <g>\n",
              "        <path d=\"M19 3H5c-1.1 0-2 .9-2 2v14c0 1.1.9 2 2 2h14c1.1 0 2-.9 2-2V5c0-1.1-.9-2-2-2zM9 17H7v-7h2v7zm4 0h-2V7h2v10zm4 0h-2v-4h2v4z\"/>\n",
              "    </g>\n",
              "</svg>\n",
              "  </button>\n",
              "\n",
              "<style>\n",
              "  .colab-df-quickchart {\n",
              "      --bg-color: #E8F0FE;\n",
              "      --fill-color: #1967D2;\n",
              "      --hover-bg-color: #E2EBFA;\n",
              "      --hover-fill-color: #174EA6;\n",
              "      --disabled-fill-color: #AAA;\n",
              "      --disabled-bg-color: #DDD;\n",
              "  }\n",
              "\n",
              "  [theme=dark] .colab-df-quickchart {\n",
              "      --bg-color: #3B4455;\n",
              "      --fill-color: #D2E3FC;\n",
              "      --hover-bg-color: #434B5C;\n",
              "      --hover-fill-color: #FFFFFF;\n",
              "      --disabled-bg-color: #3B4455;\n",
              "      --disabled-fill-color: #666;\n",
              "  }\n",
              "\n",
              "  .colab-df-quickchart {\n",
              "    background-color: var(--bg-color);\n",
              "    border: none;\n",
              "    border-radius: 50%;\n",
              "    cursor: pointer;\n",
              "    display: none;\n",
              "    fill: var(--fill-color);\n",
              "    height: 32px;\n",
              "    padding: 0;\n",
              "    width: 32px;\n",
              "  }\n",
              "\n",
              "  .colab-df-quickchart:hover {\n",
              "    background-color: var(--hover-bg-color);\n",
              "    box-shadow: 0 1px 2px rgba(60, 64, 67, 0.3), 0 1px 3px 1px rgba(60, 64, 67, 0.15);\n",
              "    fill: var(--button-hover-fill-color);\n",
              "  }\n",
              "\n",
              "  .colab-df-quickchart-complete:disabled,\n",
              "  .colab-df-quickchart-complete:disabled:hover {\n",
              "    background-color: var(--disabled-bg-color);\n",
              "    fill: var(--disabled-fill-color);\n",
              "    box-shadow: none;\n",
              "  }\n",
              "\n",
              "  .colab-df-spinner {\n",
              "    border: 2px solid var(--fill-color);\n",
              "    border-color: transparent;\n",
              "    border-bottom-color: var(--fill-color);\n",
              "    animation:\n",
              "      spin 1s steps(1) infinite;\n",
              "  }\n",
              "\n",
              "  @keyframes spin {\n",
              "    0% {\n",
              "      border-color: transparent;\n",
              "      border-bottom-color: var(--fill-color);\n",
              "      border-left-color: var(--fill-color);\n",
              "    }\n",
              "    20% {\n",
              "      border-color: transparent;\n",
              "      border-left-color: var(--fill-color);\n",
              "      border-top-color: var(--fill-color);\n",
              "    }\n",
              "    30% {\n",
              "      border-color: transparent;\n",
              "      border-left-color: var(--fill-color);\n",
              "      border-top-color: var(--fill-color);\n",
              "      border-right-color: var(--fill-color);\n",
              "    }\n",
              "    40% {\n",
              "      border-color: transparent;\n",
              "      border-right-color: var(--fill-color);\n",
              "      border-top-color: var(--fill-color);\n",
              "    }\n",
              "    60% {\n",
              "      border-color: transparent;\n",
              "      border-right-color: var(--fill-color);\n",
              "    }\n",
              "    80% {\n",
              "      border-color: transparent;\n",
              "      border-right-color: var(--fill-color);\n",
              "      border-bottom-color: var(--fill-color);\n",
              "    }\n",
              "    90% {\n",
              "      border-color: transparent;\n",
              "      border-bottom-color: var(--fill-color);\n",
              "    }\n",
              "  }\n",
              "</style>\n",
              "\n",
              "  <script>\n",
              "    async function quickchart(key) {\n",
              "      const quickchartButtonEl =\n",
              "        document.querySelector('#' + key + ' button');\n",
              "      quickchartButtonEl.disabled = true;  // To prevent multiple clicks.\n",
              "      quickchartButtonEl.classList.add('colab-df-spinner');\n",
              "      try {\n",
              "        const charts = await google.colab.kernel.invokeFunction(\n",
              "            'suggestCharts', [key], {});\n",
              "      } catch (error) {\n",
              "        console.error('Error during call to suggestCharts:', error);\n",
              "      }\n",
              "      quickchartButtonEl.classList.remove('colab-df-spinner');\n",
              "      quickchartButtonEl.classList.add('colab-df-quickchart-complete');\n",
              "    }\n",
              "    (() => {\n",
              "      let quickchartButtonEl =\n",
              "        document.querySelector('#df-ea8e1978-29c7-42a6-8da7-36d08c9d2b98 button');\n",
              "      quickchartButtonEl.style.display =\n",
              "        google.colab.kernel.accessAllowed ? 'block' : 'none';\n",
              "    })();\n",
              "  </script>\n",
              "</div>\n",
              "    </div>\n",
              "  </div>\n"
            ]
          },
          "metadata": {},
          "execution_count": 202
        }
      ]
    },
    {
      "cell_type": "code",
      "source": [
        "df_sorted = df.sort_values(by='id')\n",
        "df_sorted"
      ],
      "metadata": {
        "id": "BMi_svDHgJZx"
      },
      "execution_count": null,
      "outputs": []
    },
    {
      "cell_type": "code",
      "source": [
        "import json\n",
        "import pandas as pd\n",
        "import sys\n",
        "# Asumiendo que 'client' y 'user_agent' ya están definidos\n",
        "\n",
        "all_songs = []\n",
        "page = 1\n",
        "\n",
        "while True:\n",
        "    resp, content = client.request(f'https://api.discogs.com/database/search?genre=Electronic&page={page}&per_page=100',\n",
        "                                   headers={'User-Agent': user_agent})\n",
        "\n",
        "    if resp['status'] != '200':\n",
        "        sys.exit(f'Invalid API response {resp[\"status\"]}.')\n",
        "\n",
        "    data = json.loads(content.decode('utf-8'))\n",
        "\n",
        "    # Añadir canciones a la lista all_songs\n",
        "    for release in data['results']:\n",
        "        id = release.get(\"id\")\n",
        "        title = release.get(\"title\")\n",
        "        year = release.get(\"year\", \"Unknown\")\n",
        "        label = release.get(\"label\", [\"Unknown\"])\n",
        "        style = release.get(\"style\", \"Unknown\")\n",
        "        type = release.get(\"type\")\n",
        "\n",
        "        all_songs.append({'id': id, 'title': title, 'Year': year, 'label': label, 'style': style, 'type': type})\n",
        "\n",
        "    # Verificar si hay una próxima página\n",
        "    next_url = data.get('pagination', {}).get('urls', {}).get('next')\n",
        "    if next_url:\n",
        "        page += 1  # Incrementar el número de página\n",
        "    else:\n",
        "        break  # Salir del bucle si no hay más páginas\n",
        "\n",
        "# Crear un DataFrame con todas las canciones\n",
        "df = pd.DataFrame(all_songs)\n",
        "print(df)"
      ],
      "metadata": {
        "colab": {
          "base_uri": "https://localhost:8080/",
          "height": 161
        },
        "id": "vbrFzN6urBQN",
        "outputId": "5880dac6-316b-4b09-8dbb-8eea60922fc8"
      },
      "execution_count": null,
      "outputs": [
        {
          "output_type": "error",
          "ename": "SystemExit",
          "evalue": "ignored",
          "traceback": [
            "An exception has occurred, use %tb to see the full traceback.\n",
            "\u001b[0;31mSystemExit\u001b[0m\u001b[0;31m:\u001b[0m Invalid API response 429.\n"
          ]
        },
        {
          "output_type": "stream",
          "name": "stderr",
          "text": [
            "/usr/local/lib/python3.10/dist-packages/IPython/core/interactiveshell.py:3561: UserWarning: To exit: use 'exit', 'quit', or Ctrl-D.\n",
            "  warn(\"To exit: use 'exit', 'quit', or Ctrl-D.\", stacklevel=1)\n"
          ]
        }
      ]
    }
  ]
}